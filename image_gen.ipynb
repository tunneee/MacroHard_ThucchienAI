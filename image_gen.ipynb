{
 "cells": [
  {
   "cell_type": "code",
   "execution_count": 22,
   "id": "51009da4",
   "metadata": {},
   "outputs": [],
   "source": [
    "prompt=\"\"\"\n",
    "Create a cinematic 4-panel storyboard for a 30-second TV commercial. The overall style should be a blend of futuristic technology and traditional Vietnamese Tet holiday warmth, with a vibrant and optimistic mood. The output should be a single image in a 16:9 aspect ratio, containing a grid of four sequential panels.\n",
    "Crucial Branding Guideline:\n",
    "Do not modify the Techcombank logo. The logo has two red squares forming a plus sign. It must be rendered accurately and without any artistic changes, stylization, or alterations in its shape or color.\n",
    "Consistent Character Reference:\n",
    "The Mechanical Horse: A majestic and powerful robotic horse. Its body is made of sleek, polished white composite and chrome, with glowing red lines of energy tracing its form, reflecting Techcombank's branding. Its eyes emit a soft, warm golden light. With every step, its hooves leave a trail of magical, glowing green sprouts on the ground. It symbolizes technology, speed, and prosperity.\n",
    "Panel 1: The Opening - \"Lộc Về Nhà\"\n",
    "Scene: A modern, cozy Vietnamese living room filled with the warm light of dawn. The room is decorated for Tet with a blooming peach blossom branch and a kumquat tree. A multi-generational family (grandparents, parents, a young child) is gathered together, their faces filled with joy.\n",
    "Action: The father holds up a smartphone, displaying a vibrant Techcombank mobile app notification that reads \"Bạn nhận được Lì Xì may mắn!\". The family looks at the phone with bright, happy smiles.\n",
    "Camera & Mood: Medium shot, eye-level. The atmosphere is intimate, warm, and full of festive happiness.\n",
    "Panel 2: The Development - \"Phi Nước Đại\"\n",
    "Scene: A dynamic, wide-angle shot of the Mechanical Horse galloping powerfully across a futuristic bridge against the backdrop of a modern Vietnamese city skyline (e.g., Ho Chi Minh City with Landmark 81).\n",
    "Action: The Mechanical Horse is in mid-stride, exuding power and grace. The glowing green sprouts magically appear on the bridge with its every step. In the background, through sleek glass buildings, we see silhouettes of Vietnamese life in dynamic motion: a young entrepreneur presenting an idea, a digital artist at work, a family shopping online.\n",
    "Camera & Mood: Dynamic low-angle shot to emphasize the horse's power. The mood is energetic, innovative, and forward-looking.\n",
    "Panel 3: The Climax - \"Khai Lộc Nở Rộ\"\n",
    "Scene: A breathtaking, iconic Vietnamese landscape at sunset, such as the limestone karsts of Ha Long Bay or the lush rice terraces of Sapa.\n",
    "Action: The Mechanical Horse rears up majestically on a cliff edge. As it does, it transforms into a brilliant vortex of red and white light, which then resolves into the official, unmodified Techcombank logo, glowing brightly in the sky. Simultaneously, from the spot where the horse stood, a beautiful digital tree of light instantly grows and blooms, its branches adorned with glowing red lucky envelopes.\n",
    "Camera & Mood: Epic, wide shot. The atmosphere is magical, awe-inspiring, and climactic. The sunset casts a golden glow over the entire scene.\n",
    "Panel 4: The Closing - \"Mã Đáo Tài Lộc\"\n",
    "Scene: A clean, minimalist final frame with a rich, festive red background.\n",
    "Action: The official, unmodified Techcombank logo is displayed prominently at the center. Below it, the campaign slogan is written in an elegant, modern Vietnamese font:\n",
    "Mã Đáo Tài Lộc\n",
    "Sinh Lời Tự Động, Rước Lộc Đầu Năm\n",
    "Camera & Mood: Static, clean graphic layout. The mood is confident, prosperous, and celebratory.\n",
    "\"\"\""
   ]
  },
  {
   "cell_type": "code",
   "execution_count": 23,
   "id": "23887c2f",
   "metadata": {},
   "outputs": [],
   "source": [
    "import base64\n",
    "# Encode the logo file to base64\n",
    "with open(\"./assets/logo-techcombank-inkythuatso-10-15-17-50.jpg\", \"rb\") as image_file:\n",
    "    logo_base64 = base64.b64encode(image_file.read()).decode('utf-8')"
   ]
  },
  {
   "cell_type": "code",
   "execution_count": 24,
   "id": "3e5f7698",
   "metadata": {},
   "outputs": [
    {
     "name": "stdout",
     "output_type": "stream",
     "text": [
      "Image saved to generated_chat_image.png\n"
     ]
    }
   ],
   "source": [
    "from openai import OpenAI\n",
    "import base64\n",
    "\n",
    "client = OpenAI(\n",
    "  api_key=\"sk-ARlNk8_uTzJytyWk-qCUDg\",\n",
    "  base_url=\"https://api.thucchien.ai\"\n",
    ")\n",
    "\n",
    "response = client.chat.completions.create(\n",
    "  model=\"gemini-2.5-flash-image-preview\",\n",
    "  messages=[{\"role\": \"user\", \"content\":[{\"type\": \"text\", \"text\": prompt},\n",
    "                                        {\n",
    "                  \"type\": \"image_url\",\n",
    "                  \"image_url\": {\n",
    "                      \"url\": f\"data:image/jpeg;base64,{logo_base64}\"\n",
    "                  }\n",
    "              }]}],\n",
    "  modalities=[\"image\"]\n",
    ")\n",
    "\n",
    "# Lưu ảnh từ dữ liệu base64\n",
    "base64_string = response.choices[0].message.images[0].get(\"image_url\").get(\"url\")\n",
    "if ',' in base64_string:\n",
    "  header, encoded = base64_string.split(',', 1)\n",
    "else:\n",
    "  encoded = base64_string\n",
    "image_data = base64.b64decode(encoded)\n",
    "with open(\"generated_chat_image.png\", \"wb\") as f:\n",
    "  f.write(image_data)\n",
    "print(\"Image saved to generated_chat_image.png\")"
   ]
  },
  {
   "cell_type": "code",
   "execution_count": null,
   "id": "cd5d1adc",
   "metadata": {},
   "outputs": [],
   "source": []
  }
 ],
 "metadata": {
  "kernelspec": {
   "display_name": "myvenv",
   "language": "python",
   "name": "python3"
  },
  "language_info": {
   "codemirror_mode": {
    "name": "ipython",
    "version": 3
   },
   "file_extension": ".py",
   "mimetype": "text/x-python",
   "name": "python",
   "nbconvert_exporter": "python",
   "pygments_lexer": "ipython3",
   "version": "3.10.18"
  }
 },
 "nbformat": 4,
 "nbformat_minor": 5
}
