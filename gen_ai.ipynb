{
 "cells": [
  {
   "cell_type": "code",
   "execution_count": 1,
   "id": "a444304b",
   "metadata": {},
   "outputs": [],
   "source": [
    "import requests\n",
    "import json\n",
    "\n",
    "# --- Cấu hình ---\n",
    "AI_API_BASE = \"https://api.thucchien.ai\"\n",
    "AI_API_KEY = \"sk-ARlNk8_uTzJytyWk-qCUDg\" # Thay bằng API key của bạn"
   ]
  },
  {
   "cell_type": "code",
   "execution_count": 2,
   "id": "f841ee62",
   "metadata": {},
   "outputs": [
    {
     "name": "stdout",
     "output_type": "stream",
     "text": [
      "Chắc chắn rồi! Dưới đây là một vài câu giới thiệu về Việt Nam theo các phong cách khác nhau, bạn có thể chọn câu phù hợp nhất với ngữ cảnh của mình.\n",
      "\n",
      "### Dạng tổng quát và phổ biến nhất:\n",
      "\n",
      "**Việt Nam, dải đất hình chữ S, là điểm đến quyến rũ với cảnh quan thiên nhiên kỳ vĩ, nền văn hóa đậm đà bản sắc và con người thân thiện, mến khách.**\n",
      "\n",
      "---\n",
      "\n",
      "### Các lựa chọn khác:\n",
      "\n",
      "*   **Nhấn mạnh về lịch sử và văn hóa:**\n",
      "    > Việt Nam là một quốc gia có bề dày lịch sử hơn 4000 năm, nơi lưu giữ những di sản văn hóa độc đáo và minh chứng cho một tinh thần dân tộc bất khuất.\n",
      "\n",
      "*   **Nhấn mạnh về thiên nhiên và trải nghiệm:**\n",
      "    > Từ những dãy núi hùng vĩ ở phía Bắc đến đồng bằng sông Cửu Long trù phú ở phía Nam, Việt Nam mời gọi du khách vào một hành trình khám phá vẻ đẹp thiên nhiên đa dạng và ngoạn mục.\n",
      "\n",
      "*   **Nhấn mạnh về sự năng động và hiện đại:**\n",
      "    > Việt Nam là sự hòa quyện đầy mê hoặc giữa nét cổ kính của những ngôi đền ngàn năm tuổi và năng lượng căng tràn của một nền kinh tế đang phát triển năng động.\n",
      "\n",
      "*   **Dạng ngắn gọn và gợi hình:**\n",
      "    > Việt Nam là bản giao hưởng của sắc màu, hương vị và cảm xúc, nơi mỗi góc phố, mỗi món ăn đều kể một câu chuyện riêng.\n",
      "\n",
      "Bạn có thể chọn một câu phù hợp nhất với mục đích của mình nhé\n"
     ]
    }
   ],
   "source": [
    "# --- Thực thi ---\n",
    "url = f\"{AI_API_BASE}/chat/completions\"\n",
    "headers = {\n",
    "  \"Content-Type\": \"application/json\",\n",
    "  \"Authorization\": f\"Bearer {AI_API_KEY}\"\n",
    "}\n",
    "data = {\n",
    "  \"model\": \"gemini-2.5-pro\",\n",
    "  \"messages\": [\n",
    "      {\n",
    "          \"role\": \"system\",\n",
    "          \"content\": \"Bạn là một trợ lý ảo\"\n",
    "      },\n",
    "      {\n",
    "          \"role\": \"user\",\n",
    "          \"content\": \"Hãy viết một câu giới thiệu về Việt Nam.\"\n",
    "      }\n",
    "  ]\n",
    "}\n",
    "\n",
    "response = requests.post(url, headers=headers, data=json.dumps(data))\n",
    "\n",
    "if response.status_code == 200:\n",
    "  result = response.json()\n",
    "  print(result['choices'][0]['message']['content'])\n",
    "else:\n",
    "  print(f\"Error: {response.status_code}\")\n",
    "  print(response.text)"
   ]
  },
  {
   "cell_type": "code",
   "execution_count": 13,
   "id": "1606e751",
   "metadata": {},
   "outputs": [
    {
     "name": "stdout",
     "output_type": "stream",
     "text": [
      "Key Alias: official-89@key\n",
      "Spend: $2.12441625\n",
      "Max Budget: 50.0\n",
      "Models: ['all-team-models']\n",
      "Created: 2025-10-21T07:12:36.308000+00:00\n"
     ]
    }
   ],
   "source": [
    "import requests\n",
    "\n",
    "API_KEY = \"sk-ARlNk8_uTzJytyWk-qCUDg\"\n",
    "url = \"https://api.thucchien.ai/key/info\"\n",
    "\n",
    "headers = {\n",
    "  \"accept\": \"application/json\",\n",
    "  \"Authorization\": f\"Bearer {API_KEY}\"\n",
    "}\n",
    "\n",
    "response = requests.get(url, headers=headers)\n",
    "\n",
    "if response.status_code == 200:\n",
    "  key_info = response.json()\n",
    "  info = key_info['info']\n",
    "  print(\"Key Alias:\", info['key_alias'])\n",
    "  print(\"Spend: $\" + str(info['spend']))\n",
    "  print(\"Max Budget:\", info.get('max_budget', 'Unlimited'))\n",
    "  print(\"Models:\", info['models'])\n",
    "  print(\"Created:\", info['created_at'])\n",
    "else:\n",
    "  print(\"Error:\", response.status_code)\n",
    "  print(response.text)"
   ]
  },
  {
   "cell_type": "code",
   "execution_count": null,
   "id": "be50b60e",
   "metadata": {},
   "outputs": [],
   "source": []
  }
 ],
 "metadata": {
  "kernelspec": {
   "display_name": "myvenv",
   "language": "python",
   "name": "python3"
  },
  "language_info": {
   "codemirror_mode": {
    "name": "ipython",
    "version": 3
   },
   "file_extension": ".py",
   "mimetype": "text/x-python",
   "name": "python",
   "nbconvert_exporter": "python",
   "pygments_lexer": "ipython3",
   "version": "3.10.18"
  }
 },
 "nbformat": 4,
 "nbformat_minor": 5
}
